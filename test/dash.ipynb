{
 "cells": [
  {
   "cell_type": "markdown",
   "id": "aedd4c55-bff6-46e8-9947-5ee9f3d30692",
   "metadata": {},
   "source": []
  },
  {
   "cell_type": "code",
   "execution_count": null,
   "id": "bd50bdaa-4a7b-4ba0-82ed-ba30f2668db8",
   "metadata": {},
   "outputs": [],
   "source": [
    "!pip3 install dash\n",
    "!pip3 install jupyter-dash"
   ]
  },
  {
   "cell_type": "code",
   "execution_count": null,
   "id": "570598a8-f730-4891-9c17-f8b07f1746fc",
   "metadata": {},
   "outputs": [],
   "source": [
    "!pip3 install jupyterlab-dash"
   ]
  },
  {
   "cell_type": "code",
   "execution_count": null,
   "id": "fc0ba25b-22e9-4624-8e94-1416b9dd028f",
   "metadata": {},
   "outputs": [],
   "source": [
    "#!jupyter labextension install jupyterlab-dash"
   ]
  },
  {
   "cell_type": "code",
   "execution_count": 1,
   "id": "ffbdc53a-4a19-4b2e-94b1-08e58aeded4c",
   "metadata": {},
   "outputs": [],
   "source": [
    "import dash\n",
    "from dash import html\n",
    "import jupyterlab_dash\n",
    "#import dash_html_components as html"
   ]
  },
  {
   "cell_type": "code",
   "execution_count": 2,
   "id": "1bd56bc1-2f4b-420c-840a-3732012fa701",
   "metadata": {},
   "outputs": [
    {
     "name": "stderr",
     "output_type": "stream",
     "text": [
      "Exception in thread Thread-55:\n",
      "Traceback (most recent call last):\n",
      "  File \"/home/michel/Documents/Conda/envs/pablocarreira-py39/lib/python3.9/threading.py\", line 973, in _bootstrap_inner\n",
      "    self.run()\n",
      "  File \"/home/michel/Documents/Conda/envs/pablocarreira-py39/lib/python3.9/threading.py\", line 1299, in run\n",
      "    self.function(*self.args, **self.kwargs)\n",
      "  File \"/home/michel/Documents/Conda/envs/pablocarreira-py39/lib/python3.9/site-packages/jupyterlab_dash/__init__.py\", line 63, in _perform_show\n",
      "    raise IOError(\"\"\"\n",
      "OSError: \n",
      "Unable to communicate with the jupyterlab-dash JupyterLab extension.\n",
      "Is this Python kernel running inside JupyterLab with the jupyterlab-dash\n",
      "extension installed?\n",
      "\n",
      "You can install the extension with:\n",
      "\n",
      "$ jupyter labextension install jupyterlab-dash\n",
      "\n"
     ]
    }
   ],
   "source": [
    "viewer = jupyterlab_dash.AppViewer()\n",
    "app = dash.Dash(__name__)\n",
    "app.layout = html.Div('Hello World')\n",
    "viewer.show(app)"
   ]
  },
  {
   "cell_type": "code",
   "execution_count": null,
   "id": "d1790aa5-e7f7-4181-81c1-5a3af6c59b85",
   "metadata": {},
   "outputs": [],
   "source": []
  },
  {
   "cell_type": "code",
   "execution_count": null,
   "id": "c6b83b2c-9a65-4e66-b6de-4aa567231375",
   "metadata": {},
   "outputs": [],
   "source": []
  },
  {
   "cell_type": "code",
   "execution_count": null,
   "id": "c4125838-0366-434e-8b3e-28c691bb38db",
   "metadata": {},
   "outputs": [],
   "source": []
  },
  {
   "cell_type": "code",
   "execution_count": null,
   "id": "6061a267-8203-4482-9a8a-6af46427b44b",
   "metadata": {},
   "outputs": [],
   "source": []
  },
  {
   "cell_type": "code",
   "execution_count": null,
   "id": "2807f46e-09ef-4cd7-b53a-a1d3b85fac02",
   "metadata": {},
   "outputs": [],
   "source": [
    "from dash import Dash, html, dcc\n",
    "import plotly.express as px\n",
    "import pandas as pd\n",
    "\n",
    "app = Dash(__name__)\n",
    "\n",
    "# assume you have a \"long-form\" data frame\n",
    "# see https://plotly.com/python/px-arguments/ for more options\n",
    "df = pd.DataFrame({\n",
    "    \"Fruit\": [\"Apples\", \"Oranges\", \"Bananas\", \"Apples\", \"Oranges\", \"Bananas\"],\n",
    "    \"Amount\": [4, 1, 2, 2, 4, 5],\n",
    "    \"City\": [\"SF\", \"SF\", \"SF\", \"Montreal\", \"Montreal\", \"Montreal\"]\n",
    "})\n",
    "\n",
    "fig = px.bar(df, x=\"Fruit\", y=\"Amount\", color=\"City\", barmode=\"group\")\n",
    "\n",
    "app.layout = html.Div(children=[\n",
    "    html.H1(children='Hello Dash'),\n",
    "\n",
    "    html.Div(children='''\n",
    "        Dash: A web application framework for your data.\n",
    "    '''),\n",
    "\n",
    "    dcc.Graph(\n",
    "        id='example-graph',\n",
    "        figure=fig\n",
    "    )\n",
    "])\n",
    "\n",
    "if __name__ == '__main__':\n",
    "    app.run_server(debug=True)"
   ]
  },
  {
   "cell_type": "code",
   "execution_count": null,
   "id": "783d03fd-fd59-4537-ab2d-18b93289b4e5",
   "metadata": {},
   "outputs": [],
   "source": []
  }
 ],
 "metadata": {
  "kernelspec": {
   "display_name": "Python [conda env:pablocarreira-py39] *",
   "language": "python",
   "name": "conda-env-pablocarreira-py39-py"
  },
  "language_info": {
   "codemirror_mode": {
    "name": "ipython",
    "version": 3
   },
   "file_extension": ".py",
   "mimetype": "text/x-python",
   "name": "python",
   "nbconvert_exporter": "python",
   "pygments_lexer": "ipython3",
   "version": "3.9.10"
  }
 },
 "nbformat": 4,
 "nbformat_minor": 5
}

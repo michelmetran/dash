{
 "cells": [
  {
   "cell_type": "markdown",
   "id": "aedd4c55-bff6-46e8-9947-5ee9f3d30692",
   "metadata": {
    "pycharm": {
     "name": "#%% md\n"
    }
   },
   "source": [
    "<br>\n",
    "\n",
    "# Dash\n",
    "\n",
    "## Como Rodar no Jupyter"
   ]
  },
  {
   "cell_type": "code",
   "execution_count": null,
   "id": "1a5acb89-2c35-4cf7-ac4f-af47d4f80bb2",
   "metadata": {
    "pycharm": {
     "name": "#%%\n",
     "is_executing": true
    }
   },
   "outputs": [],
   "source": [
    "#!pip3 install dash\n",
    "#!pip3 install jupyter-dash\n",
    "#!pip3 install jupyterlab-dash\n",
    "#!jupyter labextension install jupyterlab-dash"
   ]
  },
  {
   "cell_type": "code",
   "execution_count": null,
   "id": "ffbdc53a-4a19-4b2e-94b1-08e58aeded4c",
   "metadata": {
    "pycharm": {
     "name": "#%%\n",
     "is_executing": true
    }
   },
   "outputs": [],
   "source": [
    "import dash\n",
    "from dash import html\n",
    "import jupyterlab_dash\n",
    "#import dash_html_components as html"
   ]
  },
  {
   "cell_type": "code",
   "execution_count": null,
   "id": "1bd56bc1-2f4b-420c-840a-3732012fa701",
   "metadata": {
    "pycharm": {
     "name": "#%%\n",
     "is_executing": true
    }
   },
   "outputs": [],
   "source": [
    "viewer = jupyterlab_dash.AppViewer()\n",
    "app = dash.Dash(__name__)\n",
    "app.layout = html.Div('Hello World')\n",
    "viewer.show(app)"
   ]
  },
  {
   "cell_type": "markdown",
   "id": "ab08ecb8-2b0b-4a1f-a55d-17d94978e05c",
   "metadata": {
    "pycharm": {
     "name": "#%% md\n"
    }
   },
   "source": [
    "<br>\n",
    "\n",
    "# Alternativa\n",
    "\n",
    "- https://stackoverflow.com/questions/65469064/how-to-run-the-dashboard-in-jupyter-notebook"
   ]
  },
  {
   "cell_type": "code",
   "execution_count": null,
   "id": "2807f46e-09ef-4cd7-b53a-a1d3b85fac02",
   "metadata": {
    "pycharm": {
     "name": "#%%\n",
     "is_executing": true
    }
   },
   "outputs": [],
   "source": [
    "import dash\n",
    "import dash_core_components as dcc\n",
    "from dash import html\n",
    "from jupyter_dash import JupyterDash\n",
    "import pandas as pd\n",
    "\n",
    "# app = dash.Dash()\n",
    "app = JupyterDash(__name__)\n",
    "app.layout = html.Div(children=[html.H1(children='Hello')])\n",
    "app.run_server(mode='inline') "
   ]
  },
  {
   "cell_type": "code",
   "execution_count": null,
   "id": "783d03fd-fd59-4537-ab2d-18b93289b4e5",
   "metadata": {
    "pycharm": {
     "name": "#%%\n"
    }
   },
   "outputs": [],
   "source": []
  }
 ],
 "metadata": {
  "kernelspec": {
   "name": "python3",
   "language": "python",
   "display_name": "Python 3 (ipykernel)"
  },
  "language_info": {
   "codemirror_mode": {
    "name": "ipython",
    "version": 3
   },
   "file_extension": ".py",
   "mimetype": "text/x-python",
   "name": "python",
   "nbconvert_exporter": "python",
   "pygments_lexer": "ipython3",
   "version": "3.9.10"
  }
 },
 "nbformat": 4,
 "nbformat_minor": 5
}
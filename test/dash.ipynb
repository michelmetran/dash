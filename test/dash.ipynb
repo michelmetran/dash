{
 "cells": [
  {
   "cell_type": "markdown",
   "id": "aedd4c55-bff6-46e8-9947-5ee9f3d30692",
   "metadata": {},
   "source": [
    "<br>\n",
    "\n",
    "# Dash\n",
    "\n",
    "## Como Rodar no Jupyter"
   ]
  },
  {
   "cell_type": "code",
   "execution_count": null,
   "id": "1a5acb89-2c35-4cf7-ac4f-af47d4f80bb2",
   "metadata": {},
   "outputs": [],
   "source": [
    "#!pip3 install dash\n",
    "#!pip3 install jupyter-dash\n",
    "#!pip3 install jupyterlab-dash\n",
    "#!jupyter labextension install jupyterlab-dash"
   ]
  },
  {
   "cell_type": "code",
   "execution_count": 3,
   "id": "ffbdc53a-4a19-4b2e-94b1-08e58aeded4c",
   "metadata": {},
   "outputs": [],
   "source": [
    "import dash\n",
    "from dash import html\n",
    "import jupyterlab_dash\n",
    "#import dash_html_components as html"
   ]
  },
  {
   "cell_type": "code",
   "execution_count": 4,
   "id": "1bd56bc1-2f4b-420c-840a-3732012fa701",
   "metadata": {},
   "outputs": [
    {
     "name": "stderr",
     "output_type": "stream",
     "text": [
      "Exception in thread Thread-106:\n",
      "Traceback (most recent call last):\n",
      "  File \"/home/michel/Documents/Conda/envs/pablocarreira-py39/lib/python3.9/threading.py\", line 973, in _bootstrap_inner\n",
      "    self.run()\n",
      "  File \"/home/michel/Documents/Conda/envs/pablocarreira-py39/lib/python3.9/threading.py\", line 1299, in run\n",
      "    self.function(*self.args, **self.kwargs)\n",
      "  File \"/home/michel/Documents/Conda/envs/pablocarreira-py39/lib/python3.9/site-packages/jupyterlab_dash/__init__.py\", line 63, in _perform_show\n",
      "    raise IOError(\"\"\"\n",
      "OSError: \n",
      "Unable to communicate with the jupyterlab-dash JupyterLab extension.\n",
      "Is this Python kernel running inside JupyterLab with the jupyterlab-dash\n",
      "extension installed?\n",
      "\n",
      "You can install the extension with:\n",
      "\n",
      "$ jupyter labextension install jupyterlab-dash\n",
      "\n"
     ]
    }
   ],
   "source": [
    "viewer = jupyterlab_dash.AppViewer()\n",
    "app = dash.Dash(__name__)\n",
    "app.layout = html.Div('Hello World')\n",
    "viewer.show(app)"
   ]
  },
  {
   "cell_type": "markdown",
   "id": "ab08ecb8-2b0b-4a1f-a55d-17d94978e05c",
   "metadata": {},
   "source": [
    "<br>\n",
    "\n",
    "# Alternativa\n",
    "\n",
    "- https://stackoverflow.com/questions/65469064/how-to-run-the-dashboard-in-jupyter-notebook"
   ]
  },
  {
   "cell_type": "code",
   "execution_count": 13,
   "id": "2807f46e-09ef-4cd7-b53a-a1d3b85fac02",
   "metadata": {},
   "outputs": [
    {
     "data": {
      "text/html": [
       "\n",
       "        <iframe\n",
       "            width=\"100%\"\n",
       "            height=\"650\"\n",
       "            src=\"http://127.0.0.1:8050/\"\n",
       "            frameborder=\"0\"\n",
       "            allowfullscreen\n",
       "            \n",
       "        ></iframe>\n",
       "        "
      ],
      "text/plain": [
       "<IPython.lib.display.IFrame at 0x7f4ec6dc3760>"
      ]
     },
     "metadata": {},
     "output_type": "display_data"
    }
   ],
   "source": [
    "import dash\n",
    "import dash_core_components as dcc\n",
    "from dash import html\n",
    "from jupyter_dash import JupyterDash\n",
    "import pandas as pd\n",
    "\n",
    "# app = dash.Dash()\n",
    "app = JupyterDash(__name__)\n",
    "app.layout = html.Div(children=[html.H1(children='Hello')])\n",
    "app.run_server(mode='inline') "
   ]
  },
  {
   "cell_type": "code",
   "execution_count": null,
   "id": "783d03fd-fd59-4537-ab2d-18b93289b4e5",
   "metadata": {},
   "outputs": [],
   "source": []
  }
 ],
 "metadata": {
  "kernelspec": {
   "display_name": "Python [conda env:pablocarreira-py39] *",
   "language": "python",
   "name": "conda-env-pablocarreira-py39-py"
  },
  "language_info": {
   "codemirror_mode": {
    "name": "ipython",
    "version": 3
   },
   "file_extension": ".py",
   "mimetype": "text/x-python",
   "name": "python",
   "nbconvert_exporter": "python",
   "pygments_lexer": "ipython3",
   "version": "3.9.10"
  }
 },
 "nbformat": 4,
 "nbformat_minor": 5
}